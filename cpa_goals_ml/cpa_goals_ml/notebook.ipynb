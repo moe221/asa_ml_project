{
 "cells": [
  {
   "cell_type": "code",
   "execution_count": null,
   "metadata": {},
   "outputs": [],
   "source": [
    "import numpy as np\n",
    "import pandas as pd\n",
    "import matplotlib.pyplot as plt\n",
    "from ipywidgets import interact, FloatSlider, IntSlider\n",
    "from tqdm.notebook import tqdm\n",
    "import random\n",
    "import gym\n",
    "from gym import spaces\n"
   ]
  },
  {
   "cell_type": "code",
   "execution_count": null,
   "metadata": {},
   "outputs": [],
   "source": [
    "# Please copy and paste the definitions of the following classes into this cell:\n",
    "# - ProbabilityDistributions\n",
    "# - AdGroup\n",
    "# - Client\n",
    "# - Advertiser\n",
    "# - ASAEnv\n",
    "\n",
    "# Make sure to update these classes to accept parameters for:\n",
    "# - Number of keywords in the ad group (in AdGroup)\n",
    "# - Competitiveness of the auction (in ASAEnv)\n",
    "# - CPA goal (in Client)\n",
    "# - Keyword bids (in AdGroup)\n",
    "# - Keyword relevancies (in Advertiser)\n",
    "# - Daily budget (in Client)\n"
   ]
  },
  {
   "cell_type": "code",
   "execution_count": null,
   "metadata": {},
   "outputs": [],
   "source": [
    "# Number of keywords in the ad group\n",
    "num_keywords_slider = IntSlider(min=1, max=50, step=1, value=10, description='Num Keywords')\n",
    "\n",
    "# Competitiveness of the auction\n",
    "competitiveness_slider = IntSlider(min=1, max=3, step=1, value=2, description='Competitiveness')\n",
    "\n",
    "# CPA goal\n",
    "cpa_goal_slider = FloatSlider(min=0, max=50, step=0.5, value=10, description='CPA Goal')\n",
    "\n",
    "# Keyword bids (example for one keyword, repeat for others)\n",
    "keyword_bid_slider = FloatSlider(min=1, max=20, step=0.5, value=5, description='Keyword Bid')\n",
    "\n",
    "# Keyword relevancies (example for one keyword, repeat for others)\n",
    "keyword_relevancy_slider = FloatSlider(min=0, max=1, step=0.05, value=0.5, description='Relevancy')\n",
    "\n",
    "# Daily budget\n",
    "daily_budget_slider = FloatSlider(min=50, max=1000, step=10, value=500, description='Daily Budget')\n"
   ]
  },
  {
   "cell_type": "code",
   "execution_count": null,
   "metadata": {},
   "outputs": [],
   "source": [
    "def run_simulation(num_keywords, competitiveness, cpa_goal, keyword_bid, keyword_relevancy, daily_budget):\n",
    "    \n",
    "    # Initialize AdGroup, Client, and ASAEnv objects based on slider values\n",
    "    ad_group = AdGroup(num_keywords, keyword_bid)\n",
    "    client = Client(cpa_goal=cpa_goal, daily_budget=daily_budget)\n",
    "    env = ASAEnv(competitiveness, client, ad_group)\n",
    "    \n",
    "    # Run the simulation and collect data for plotting\n",
    "    obs = env.reset()\n",
    "    done = False\n",
    "    cpa_history = []\n",
    "    cpa_goal_history = []\n",
    "    daily_spend_history = []\n",
    "    impressions_history = []\n",
    "    \n",
    "    while not done:\n",
    "        action = ...  # Define your action strategy\n",
    "        obs, reward, done, _ = env.step(action)\n",
    "        \n",
    "        # Collect data for plotting\n",
    "        cpa_history.append(env.current_cpa)\n",
    "        cpa_goal_history.append(cpa_goal)\n",
    "        daily_spend_history.append(env.current_spend)\n",
    "        impressions_history.append(env.current_impressions)\n",
    "        \n",
    "    # Plotting in real-time\n",
    "    plt.subplot(2, 2, 1)\n",
    "    plt.plot(cpa_history, label='Avg CPA')\n",
    "    plt.plot(cpa_goal_history, label='CPA Goal')\n",
    "    plt.legend()\n",
    "    plt.xlabel('Time')\n",
    "    plt.ylabel('CPA')\n",
    "    \n",
    "    plt.subplot(2, 2, 2)\n",
    "    plt.plot(daily_spend_history, label='Daily Spend')\n",
    "    plt.legend()\n",
    "    plt.xlabel('Time')\n",
    "    plt.ylabel('Spend')\n",
    "    \n",
    "    plt.subplot(2, 2, 3)\n",
    "    plt.plot(impressions_history, label='Impressions')\n",
    "    plt.legend()\n",
    "    plt.xlabel('Time')\n",
    "    plt.ylabel('Impressions')\n",
    "    \n",
    "    plt.tight_layout()\n",
    "    plt.show()\n"
   ]
  },
  {
   "cell_type": "code",
   "execution_count": null,
   "metadata": {},
   "outputs": [],
   "source": [
    "interact(run_simulation, \n",
    "         num_keywords=num_keywords_slider, \n",
    "         competitiveness=competitiveness_slider, \n",
    "         cpa_goal=cpa_goal_slider,\n",
    "         keyword_bid=keyword_bid_slider,\n",
    "         keyword_relevancy=keyword_relevancy_slider,\n",
    "         daily_budget=daily_budget_slider)\n"
   ]
  },
  {
   "cell_type": "code",
   "execution_count": null,
   "metadata": {},
   "outputs": [],
   "source": [
    "# Conclusion\n",
    "This interactive notebook allows you to simulate an ASA environment and observe the outcomes based on different parameters, which can be adjusted in real time using sliders.\n"
   ]
  }
 ],
 "metadata": {
  "language_info": {
   "name": "python"
  },
  "orig_nbformat": 4
 },
 "nbformat": 4,
 "nbformat_minor": 2
}
