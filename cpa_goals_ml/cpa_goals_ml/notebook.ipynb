{
 "cells": [
  {
   "cell_type": "code",
   "execution_count": 2,
   "metadata": {},
   "outputs": [
    {
     "ename": "ModuleNotFoundError",
     "evalue": "No module named 'gym'",
     "output_type": "error",
     "traceback": [
      "\u001b[0;31m---------------------------------------------------------------------------\u001b[0m",
      "\u001b[0;31mModuleNotFoundError\u001b[0m                       Traceback (most recent call last)",
      "Cell \u001b[0;32mIn[2], line 7\u001b[0m\n\u001b[1;32m      5\u001b[0m \u001b[38;5;28;01mfrom\u001b[39;00m \u001b[38;5;21;01mtqdm\u001b[39;00m\u001b[38;5;21;01m.\u001b[39;00m\u001b[38;5;21;01mnotebook\u001b[39;00m \u001b[38;5;28;01mimport\u001b[39;00m tqdm\n\u001b[1;32m      6\u001b[0m \u001b[38;5;28;01mimport\u001b[39;00m \u001b[38;5;21;01mrandom\u001b[39;00m\n\u001b[0;32m----> 7\u001b[0m \u001b[38;5;28;01mimport\u001b[39;00m \u001b[38;5;21;01mgym\u001b[39;00m\n\u001b[1;32m      8\u001b[0m \u001b[38;5;28;01mfrom\u001b[39;00m \u001b[38;5;21;01mgym\u001b[39;00m \u001b[38;5;28;01mimport\u001b[39;00m spaces\n\u001b[1;32m      9\u001b[0m \u001b[38;5;28;01mfrom\u001b[39;00m \u001b[38;5;21;01madgroup\u001b[39;00m \u001b[38;5;28;01mimport\u001b[39;00m AdGroup\n",
      "\u001b[0;31mModuleNotFoundError\u001b[0m: No module named 'gym'"
     ]
    }
   ],
   "source": [
    "import numpy as np\n",
    "import pandas as pd\n",
    "import matplotlib.pyplot as plt\n",
    "from ipywidgets import interact, FloatSlider, IntSlider\n",
    "from tqdm.notebook import tqdm\n",
    "import random\n",
    "import gym\n",
    "from gym import spaces\n",
    "from adgroup import AdGroup\n",
    "from advertisers import Advertiser\n",
    "from asa_env import ASAEnv\n",
    "from client import Client\n",
    "from probability_distributions import ProbabilityDistributions\n",
    "\n"
   ]
  },
  {
   "cell_type": "code",
   "execution_count": 5,
   "metadata": {},
   "outputs": [],
   "source": [
    "# Please copy and paste the definitions of the following classes into this cell:\n",
    "# - ProbabilityDistributions\n",
    "# - AdGroup\n",
    "# - Client\n",
    "# - Advertiser\n",
    "# - ASAEnv\n",
    "\n",
    "# Make sure to update these classes to accept parameters for:\n",
    "# - Number of keywords in the ad group (in AdGroup)\n",
    "# - Competitiveness of the auction (in ASAEnv)\n",
    "# - CPA goal (in Client)\n",
    "# - Keyword bids (in AdGroup)\n",
    "# - Keyword relevancies (in Advertiser)\n",
    "# - Daily budget (in Client)\n"
   ]
  },
  {
   "cell_type": "code",
   "execution_count": null,
   "metadata": {},
   "outputs": [],
   "source": [
    "# Number of keywords in the ad group\n",
    "num_keywords_slider = IntSlider(min=1, max=50, step=1, value=10, description='Num Keywords')\n",
    "\n",
    "# Competitiveness of the auction\n",
    "competitiveness_slider = IntSlider(min=1, max=3, step=1, value=2, description='Competitiveness')\n",
    "\n",
    "# CPA goal\n",
    "cpa_goal_slider = FloatSlider(min=0, max=50, step=0.5, value=10, description='CPA Goal')\n",
    "\n",
    "# Keyword bids (example for one keyword, repeat for others)\n",
    "keyword_bid_slider = FloatSlider(min=1, max=20, step=0.5, value=5, description='Keyword Bid')\n",
    "\n",
    "# Keyword relevancies (example for one keyword, repeat for others)\n",
    "keyword_relevancy_slider = IntSlider(min=1, max=3, step=1, value=1, description='Relevancy')\n",
    "\n",
    "# Daily budget\n",
    "daily_budget_slider = FloatSlider(min=50, max=1000, step=10, value=500, description='Daily Budget')\n",
    "\n",
    "\n",
    "prob_dist = ProbabilityDistributions()\n"
   ]
  },
  {
   "cell_type": "code",
   "execution_count": 2,
   "metadata": {},
   "outputs": [],
   "source": [
    "def run_simulation(num_keywords, competitiveness, cpa_goal, keyword_bid, keyword_relevancy, daily_budget):\n",
    "    \n",
    "    # Initialize AdGroup, Client, and ASAEnv objects based on slider values\n",
    "    ad_group = AdGroup(num_keywords, keyword_bid, keyword_relevancy)\n",
    "    keywords = ad_group.keyword_bids.keys()\n",
    "    client = Client(name=\"Client_1\", max_cpt_bid=2, avg_cpa=25, avg_ttr=0.1, avg_cvr=0.05, cpa_goal=cpa_goal, budget=daily_budget, ad_group=ad_group)\n",
    "    \n",
    "    env = ASAEnv(keywords, client, prob_dist)\n",
    "    \n",
    "    # Run the simulation and collect data for plotting\n",
    "    obs = env.reset()\n",
    "    done = False\n",
    "    cpa_history = []\n",
    "    cpa_goal_history = []\n",
    "    daily_spend_history = []\n",
    "    impressions_history = []\n",
    "    \n",
    "    while not done:\n",
    "        action = cpa_goal  # Define your action strategy\n",
    "        obs, reward, done, _ = env.step(action)\n",
    "        \n",
    "        # Collect data for plotting\n",
    "        cpa_history.append(env.client.avg_cpa)\n",
    "        cpa_goal_history.append(env.client.cpa_goal)\n",
    "        daily_spend_history.append(env.client.spend)\n",
    "        impressions_history.append(env.client.impressions)\n",
    "        \n",
    "    # Plotting in real-time\n",
    "    plt.subplot(2, 2, 1)\n",
    "    plt.plot(cpa_history, label='Avg CPA')\n",
    "    plt.plot(cpa_goal_history, label='CPA Goal')\n",
    "    plt.legend()\n",
    "    plt.xlabel('Time')\n",
    "    plt.ylabel('CPA')\n",
    "    \n",
    "    plt.subplot(2, 2, 2)\n",
    "    plt.plot(daily_spend_history, label='Daily Spend')\n",
    "    plt.legend()\n",
    "    plt.xlabel('Time')\n",
    "    plt.ylabel('Spend')\n",
    "    \n",
    "    plt.subplot(2, 2, 3)\n",
    "    plt.plot(impressions_history, label='Impressions')\n",
    "    plt.legend()\n",
    "    plt.xlabel('Time')\n",
    "    plt.ylabel('Impressions')\n",
    "    \n",
    "    plt.tight_layout()\n",
    "    plt.show()\n"
   ]
  },
  {
   "cell_type": "code",
   "execution_count": 3,
   "metadata": {},
   "outputs": [
    {
     "ename": "NameError",
     "evalue": "name 'num_keywords_slider' is not defined",
     "output_type": "error",
     "traceback": [
      "\u001b[0;31m---------------------------------------------------------------------------\u001b[0m",
      "\u001b[0;31mNameError\u001b[0m                                 Traceback (most recent call last)",
      "Cell \u001b[0;32mIn[3], line 2\u001b[0m\n\u001b[1;32m      1\u001b[0m interact(run_simulation, \n\u001b[0;32m----> 2\u001b[0m          num_keywords\u001b[38;5;241m=\u001b[39m\u001b[43mnum_keywords_slider\u001b[49m, \n\u001b[1;32m      3\u001b[0m          competitiveness\u001b[38;5;241m=\u001b[39mcompetitiveness_slider, \n\u001b[1;32m      4\u001b[0m          cpa_goal\u001b[38;5;241m=\u001b[39mcpa_goal_slider,\n\u001b[1;32m      5\u001b[0m          keyword_bid\u001b[38;5;241m=\u001b[39mkeyword_bid_slider,\n\u001b[1;32m      6\u001b[0m          keyword_relevancy\u001b[38;5;241m=\u001b[39mkeyword_relevancy_slider,\n\u001b[1;32m      7\u001b[0m          daily_budget\u001b[38;5;241m=\u001b[39mdaily_budget_slider)\n",
      "\u001b[0;31mNameError\u001b[0m: name 'num_keywords_slider' is not defined"
     ]
    }
   ],
   "source": [
    "interact(run_simulation, \n",
    "         num_keywords=num_keywords_slider, \n",
    "         competitiveness=competitiveness_slider, \n",
    "         cpa_goal=cpa_goal_slider,\n",
    "         keyword_bid=keyword_bid_slider,\n",
    "         keyword_relevancy=keyword_relevancy_slider,\n",
    "         daily_budget=daily_budget_slider)\n"
   ]
  },
  {
   "cell_type": "code",
   "execution_count": null,
   "metadata": {},
   "outputs": [],
   "source": [
    "# Conclusion\n",
    "This interactive notebook allows you to simulate an ASA environment and observe the outcomes based on different parameters, which can be adjusted in real time using sliders.\n"
   ]
  },
  {
   "cell_type": "code",
   "execution_count": null,
   "metadata": {},
   "outputs": [],
   "source": []
  },
  {
   "cell_type": "code",
   "execution_count": null,
   "metadata": {},
   "outputs": [],
   "source": []
  }
 ],
 "metadata": {
  "kernelspec": {
   "display_name": "phiture",
   "language": "python",
   "name": "phiture"
  },
  "language_info": {
   "codemirror_mode": {
    "name": "ipython",
    "version": 3
   },
   "file_extension": ".py",
   "mimetype": "text/x-python",
   "name": "python",
   "nbconvert_exporter": "python",
   "pygments_lexer": "ipython3",
   "version": "3.10.6"
  },
  "toc": {
   "base_numbering": 1,
   "nav_menu": {},
   "number_sections": true,
   "sideBar": true,
   "skip_h1_title": false,
   "title_cell": "Table of Contents",
   "title_sidebar": "Contents",
   "toc_cell": false,
   "toc_position": {},
   "toc_section_display": true,
   "toc_window_display": false
  }
 },
 "nbformat": 4,
 "nbformat_minor": 2
}
